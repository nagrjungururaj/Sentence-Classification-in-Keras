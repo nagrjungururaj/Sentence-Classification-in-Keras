{
 "cells": [
  {
   "cell_type": "markdown",
   "metadata": {},
   "source": [
    "## Load the train and test data"
   ]
  },
  {
   "cell_type": "code",
   "execution_count": 6,
   "metadata": {},
   "outputs": [],
   "source": [
    "import pandas as pd\n",
    "import numpy\n",
    "import os\n",
    "from keras.preprocessing import text, sequence\n",
    "from keras import layers, models, optimizers\n",
    "from keras.utils import to_categorical\n",
    "from keras.models import model_from_json\n",
    "from sklearn.metrics import f1_score"
   ]
  },
  {
   "cell_type": "code",
   "execution_count": 7,
   "metadata": {},
   "outputs": [
    {
     "data": {
      "text/plain": [
       "affection           20880\n",
       "achievement         20274\n",
       "bonding              6561\n",
       "enjoy_the_moment     6508\n",
       "leisure              4242\n",
       "nature               1127\n",
       "exercise              729\n",
       "dtype: int64"
      ]
     },
     "execution_count": 7,
     "metadata": {},
     "output_type": "execute_result"
    }
   ],
   "source": [
    "num_classes = 7\n",
    "\n",
    "#load train data\n",
    "X1 = pd.read_csv('dataset/hm_train.csv')\n",
    "\n",
    "#drop empty rows\n",
    "X1 = X1.dropna(axis=0, how='any', inplace=False)\n",
    "\n",
    "train_sentences = X1['cleaned_hm']\n",
    "labels_train = X1['predicted_category']\n",
    "\n",
    "#load test data\n",
    "X2 = pd.read_csv('dataset/hm_test.csv')\n",
    "X2 = X2.dropna(axis=0, how='any', inplace=False)\n",
    "\n",
    "test_sentences = X2['cleaned_hm']\n",
    "\n",
    "X1.predicted_category.str.split(expand=True).stack().value_counts()\n"
   ]
  },
  {
   "cell_type": "markdown",
   "metadata": {},
   "source": [
    "## Convert train labels to categorical"
   ]
  },
  {
   "cell_type": "code",
   "execution_count": 8,
   "metadata": {},
   "outputs": [],
   "source": [
    "labels = labels_train.values \n",
    "labels[labels == 'affection'] = 0\n",
    "labels[labels == 'achievement'] = 1\n",
    "labels[labels == 'bonding'] = 2\n",
    "labels[labels == 'enjoy_the_moment'] = 3\n",
    "labels[labels == 'leisure'] = 4\n",
    "labels[labels == 'nature'] = 5\n",
    "labels[labels == 'exercise'] = 6\n",
    "\n",
    "y_train = to_categorical(labels, num_classes = num_classes)"
   ]
  },
  {
   "cell_type": "markdown",
   "metadata": {},
   "source": [
    "## Vectorize the sentences using pre-trained word vectors"
   ]
  },
  {
   "cell_type": "code",
   "execution_count": 9,
   "metadata": {},
   "outputs": [],
   "source": [
    "# load the pre-trained word-embedding vectors \n",
    "embeddings_index = {}\n",
    "for i, line in enumerate(open('wiki-news-300d-1M.vec',encoding='utf8')):\n",
    "    values = line.split()\n",
    "    embeddings_index[values[0]] = numpy.asarray(values[1:], dtype='float32')\n",
    "\n",
    "# create a tokenizer \n",
    "token = text.Tokenizer()\n",
    "token.fit_on_texts(train_sentences)\n",
    "word_index = token.word_index\n",
    "\n",
    "# convert text to sequence of tokens and pad them to ensure equal length vectors \n",
    "train_seq_x = sequence.pad_sequences(token.texts_to_sequences(train_sentences), maxlen=70)\n",
    "valid_seq_x = sequence.pad_sequences(token.texts_to_sequences(test_sentences), maxlen=70)\n",
    "\n",
    "# create token-embedding mapping\n",
    "embedding_matrix = numpy.zeros((len(word_index) + 1, 300))\n",
    "for word, i in word_index.items():\n",
    "    embedding_vector = embeddings_index.get(word)\n",
    "    if embedding_vector is not None:\n",
    "        embedding_matrix[i] = embedding_vector"
   ]
  },
  {
   "cell_type": "markdown",
   "metadata": {},
   "source": [
    "## Build and train a simple LSTM model "
   ]
  },
  {
   "cell_type": "code",
   "execution_count": 10,
   "metadata": {},
   "outputs": [
    {
     "name": "stdout",
     "output_type": "stream",
     "text": [
      "WARNING:tensorflow:From c:\\python\\python36\\lib\\site-packages\\tensorflow\\python\\framework\\op_def_library.py:263: colocate_with (from tensorflow.python.framework.ops) is deprecated and will be removed in a future version.\n",
      "Instructions for updating:\n",
      "Colocations handled automatically by placer.\n",
      "WARNING:tensorflow:From c:\\python\\python36\\lib\\site-packages\\keras\\backend\\tensorflow_backend.py:3445: calling dropout (from tensorflow.python.ops.nn_ops) with keep_prob is deprecated and will be removed in a future version.\n",
      "Instructions for updating:\n",
      "Please use `rate` instead of `keep_prob`. Rate should be set to `rate = 1 - keep_prob`.\n",
      "WARNING:tensorflow:From c:\\python\\python36\\lib\\site-packages\\tensorflow\\python\\ops\\math_ops.py:3066: to_int32 (from tensorflow.python.ops.math_ops) is deprecated and will be removed in a future version.\n",
      "Instructions for updating:\n",
      "Use tf.cast instead.\n",
      "Epoch 1/25\n",
      "60321/60321 [==============================] - 138s 2ms/step - loss: 0.9494 - acc: 0.6761\n",
      "Epoch 2/25\n",
      "60321/60321 [==============================] - 118s 2ms/step - loss: 0.5853 - acc: 0.8034\n",
      "Epoch 3/25\n",
      "60321/60321 [==============================] - 118s 2ms/step - loss: 0.5163 - acc: 0.8227\n",
      "Epoch 4/25\n",
      "60321/60321 [==============================] - 114s 2ms/step - loss: 0.4847 - acc: 0.8325\n",
      "Epoch 5/25\n",
      "60321/60321 [==============================] - 116s 2ms/step - loss: 0.4574 - acc: 0.8391\n",
      "Epoch 6/25\n",
      "60321/60321 [==============================] - 114s 2ms/step - loss: 0.4363 - acc: 0.8455\n",
      "Epoch 7/25\n",
      "60321/60321 [==============================] - 114s 2ms/step - loss: 0.4191 - acc: 0.8509\n",
      "Epoch 8/25\n",
      "60321/60321 [==============================] - 114s 2ms/step - loss: 0.4050 - acc: 0.8552\n",
      "Epoch 9/25\n",
      "60321/60321 [==============================] - 114s 2ms/step - loss: 0.3909 - acc: 0.8619\n",
      "Epoch 10/25\n",
      "60321/60321 [==============================] - 114s 2ms/step - loss: 0.3791 - acc: 0.8637\n",
      "Epoch 11/25\n",
      "60321/60321 [==============================] - 116s 2ms/step - loss: 0.3664 - acc: 0.8674\n",
      "Epoch 12/25\n",
      "60321/60321 [==============================] - 115s 2ms/step - loss: 0.3569 - acc: 0.8708\n",
      "Epoch 13/25\n",
      "60321/60321 [==============================] - 115s 2ms/step - loss: 0.3436 - acc: 0.8753\n",
      "Epoch 14/25\n",
      "60321/60321 [==============================] - 114s 2ms/step - loss: 0.3348 - acc: 0.8767\n",
      "Epoch 15/25\n",
      "60321/60321 [==============================] - 115s 2ms/step - loss: 0.3268 - acc: 0.8805\n",
      "Epoch 16/25\n",
      "60321/60321 [==============================] - 114s 2ms/step - loss: 0.3174 - acc: 0.8831\n",
      "Epoch 17/25\n",
      "60321/60321 [==============================] - 114s 2ms/step - loss: 0.3087 - acc: 0.8864\n",
      "Epoch 18/25\n",
      "60321/60321 [==============================] - 114s 2ms/step - loss: 0.2979 - acc: 0.8892\n",
      "Epoch 19/25\n",
      "60321/60321 [==============================] - 114s 2ms/step - loss: 0.2930 - acc: 0.8900\n",
      "Epoch 20/25\n",
      "60321/60321 [==============================] - 115s 2ms/step - loss: 0.2827 - acc: 0.8950\n",
      "Epoch 21/25\n",
      "60321/60321 [==============================] - 115s 2ms/step - loss: 0.2769 - acc: 0.8966\n",
      "Epoch 22/25\n",
      "60321/60321 [==============================] - 115s 2ms/step - loss: 0.2688 - acc: 0.8996\n",
      "Epoch 23/25\n",
      "60321/60321 [==============================] - 117s 2ms/step - loss: 0.2608 - acc: 0.9021\n",
      "Epoch 24/25\n",
      "60321/60321 [==============================] - 114s 2ms/step - loss: 0.2555 - acc: 0.9047\n",
      "Epoch 25/25\n",
      "60321/60321 [==============================] - 115s 2ms/step - loss: 0.2487 - acc: 0.9074\n",
      "Saved model to disk\n"
     ]
    }
   ],
   "source": [
    "# Add an Input Layer\n",
    "input_layer = layers.Input((70, ))\n",
    "\n",
    "# Add the word embedding Layer\n",
    "embedding_layer = layers.Embedding(len(word_index) + 1, 300, weights=[embedding_matrix], trainable=False)(input_layer)\n",
    "embedding_layer = layers.SpatialDropout1D(0.3)(embedding_layer)\n",
    "\n",
    "# Add the LSTM Layer\n",
    "lstm_layer = layers.LSTM(100)(embedding_layer)\n",
    "\n",
    "# Add the output Layers\n",
    "output_layer1 = layers.Dense(50, activation=\"relu\")(lstm_layer)\n",
    "output_layer1 = layers.Dropout(0.25)(output_layer1)\n",
    "output_layer2 = layers.Dense(num_classes, activation=\"softmax\")(output_layer1)\n",
    "\n",
    "# Compile the model\n",
    "model = models.Model(inputs=input_layer, outputs=output_layer2)\n",
    "model.compile(optimizer=optimizers.Adam(), loss='categorical_crossentropy',metrics=['accuracy'])\n",
    "\n",
    "#Train the model\n",
    "model.fit(train_seq_x, y_train, epochs=25, batch_size=256)\n",
    "\n",
    "#Save the trained model\n",
    "\n",
    "# serialize model to JSON\n",
    "model_json = model.to_json()\n",
    "with open(\"model.json\", \"w\") as json_file:\n",
    "    json_file.write(model_json)\n",
    "# serialize weights to HDF5\n",
    "model.save_weights(\"model.h5\")\n",
    "print(\"Saved model to disk\")"
   ]
  },
  {
   "cell_type": "markdown",
   "metadata": {},
   "source": [
    "## Test the model and get predictions for test data"
   ]
  },
  {
   "cell_type": "code",
   "execution_count": 11,
   "metadata": {},
   "outputs": [
    {
     "name": "stdout",
     "output_type": "stream",
     "text": [
      "Loaded model from disk\n",
      "60321/60321 [==============================] - 50s 827us/step\n",
      "F1-score with weighted average for training data is: 0.9332379242744984\n",
      "40213/40213 [==============================] - 31s 780us/step\n"
     ]
    }
   ],
   "source": [
    "#Load the trained model\n",
    "\n",
    "json_file = open('model.json', 'r')\n",
    "loaded_model_json = json_file.read()\n",
    "json_file.close()\n",
    "loaded_model = model_from_json(loaded_model_json)\n",
    "# load weights into new model\n",
    "loaded_model.load_weights(\"model.h5\")\n",
    "print(\"Loaded model from disk\")\n",
    "\n",
    "#get predictions on train data and calculate F1-score with weighted mean\n",
    "y_pred_train = model.predict(train_seq_x, batch_size=256,verbose=1)\n",
    "\n",
    "print('F1-score with weighted average for training data is:', f1_score(y_train, y_pred_train.round(), average='weighted'))\n",
    "\n",
    "# get prediction on test data\n",
    "y_pred = model.predict(valid_seq_x, batch_size=256,verbose=1)\n",
    "y_pred = numpy.argmax(y_pred, axis=1)\n",
    "\n",
    "# get the id column of test data\n",
    "hmid = X2['hmid']\n",
    "\n",
    "#convert y_pred to real labels\n",
    "preds = pd.DataFrame(y_pred, columns=['predicted_category'])\n",
    "\n",
    "preds[preds.predicted_category == 0] = 'affection'\n",
    "preds[preds.predicted_category == 1] = 'achievement'\n",
    "preds[preds.predicted_category == 2] = 'bonding'\n",
    "preds[preds.predicted_category == 3] = 'enjoy_the_moment'\n",
    "preds[preds.predicted_category == 4] = 'leisure'\n",
    "preds[preds.predicted_category == 5] = 'nature'\n",
    "preds[preds.predicted_category == 6] = 'exercise'\n",
    "\n",
    "hmid = hmid.values\n",
    "preds = preds['predicted_category']\n",
    "preds = preds.values\n",
    "\n",
    "result = {'hmid':hmid, 'predicted_category': preds}\n",
    "df = pd.DataFrame(result)\n",
    "df.to_csv('submission-Nagarjun.csv', index=False)"
   ]
  },
  {
   "cell_type": "code",
   "execution_count": null,
   "metadata": {},
   "outputs": [],
   "source": []
  }
 ],
 "metadata": {
  "kernelspec": {
   "display_name": "Python 3",
   "language": "python",
   "name": "python3"
  },
  "language_info": {
   "codemirror_mode": {
    "name": "ipython",
    "version": 3
   },
   "file_extension": ".py",
   "mimetype": "text/x-python",
   "name": "python",
   "nbconvert_exporter": "python",
   "pygments_lexer": "ipython3",
   "version": "3.6.0"
  }
 },
 "nbformat": 4,
 "nbformat_minor": 2
}
